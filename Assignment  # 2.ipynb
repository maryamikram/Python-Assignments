{
 "cells": [
  {
   "cell_type": "code",
   "execution_count": 2,
   "metadata": {},
   "outputs": [
    {
     "name": "stdout",
     "output_type": "stream",
     "text": [
      "Enter marks of the English: 85\n",
      "Enter marks of the ITC: 83\n",
      "Enter marks of the Calculas: 90\n",
      "Enter marks of the Discrete Maths: 78\n",
      "Enter marks of the Programming Fundamental: 68\n",
      "The Grand Total is:  404\n",
      "A+\n"
     ]
    }
   ],
   "source": [
    "sub1=int(input(\"Enter marks of the English: \"))\n",
    "sub2=int(input(\"Enter marks of the ITC: \"))\n",
    "sub3=int(input(\"Enter marks of the Calculas: \"))\n",
    "sub4=int(input(\"Enter marks of the Discrete Maths: \"))\n",
    "sub5=int(input(\"Enter marks of the Programming Fundamental: \"))\n",
    "total = sub1+sub2+sub3+sub4+sub5\n",
    "print (\"The Grand Total is: \" , total)\n",
    "per=(sub1+sub2+sub3+sub4+sub4)/5\n",
    "if per >= 80 and per <= 100:\n",
    " print(\"A+\")\n",
    "elif per >= 70 and per<80:\n",
    " print(\"A\")\n",
    "elif per>=60 and per < 70:\n",
    " print(\"B\")\n",
    "elif per>=50 and per < 60:\n",
    " print(\"C\")\n",
    "elif per>=33 and per < 49:\n",
    " print(\"D\")\n",
    "elif per>=0 and per < 60:\n",
    " print(\"Fail\")"
   ]
  },
  {
   "cell_type": "code",
   "execution_count": 1,
   "metadata": {},
   "outputs": [
    {
     "name": "stdout",
     "output_type": "stream",
     "text": [
      "Enter the number to check it is even or odd:7\n",
      "The given number is odd\n"
     ]
    }
   ],
   "source": [
    "number = int(input(\"Enter the number to check it is even or odd:\"))\n",
    "mod = number % 2\n",
    "if mod > 0:\n",
    "    print(\"The given number is odd\")\n",
    "else:\n",
    "    print(\"The given number is even\")"
   ]
  },
  {
   "cell_type": "code",
   "execution_count": 5,
   "metadata": {},
   "outputs": [
    {
     "name": "stdout",
     "output_type": "stream",
     "text": [
      "The length of list is:  6\n"
     ]
    }
   ],
   "source": [
    "list = [2,3,4,1,5,6]\n",
    "print (\"The length of list is: \", len(list))"
   ]
  },
  {
   "cell_type": "code",
   "execution_count": 4,
   "metadata": {},
   "outputs": [
    {
     "name": "stdout",
     "output_type": "stream",
     "text": [
      "Sum of all elements of list is:  21\n"
     ]
    }
   ],
   "source": [
    "list = [2,3,4,1,5,6]\n",
    "Sum = sum(list)\n",
    "print(\"Sum of all elements of list is: \", Sum)"
   ]
  },
  {
   "cell_type": "code",
   "execution_count": 6,
   "metadata": {},
   "outputs": [
    {
     "name": "stdout",
     "output_type": "stream",
     "text": [
      "The larger element of list is: 6\n"
     ]
    }
   ],
   "source": [
    "list = [2,3,4,1,5,6]\n",
    "Larger = max(list)\n",
    "print(\"The larger element of list is:\", Larger)"
   ]
  },
  {
   "cell_type": "code",
   "execution_count": 16,
   "metadata": {},
   "outputs": [
    {
     "name": "stdout",
     "output_type": "stream",
     "text": [
      "Elements < 5 are: \n",
      "1\n",
      "1\n",
      "2\n",
      "3\n"
     ]
    }
   ],
   "source": [
    "a = [1, 1, 2, 3, 5, 8, 13, 21, 34, 55, 89]\n",
    "num = 5\n",
    "print (\"Elements < 5 are: \")\n",
    "for i in a:\n",
    "    if i<5:\n",
    "        print (i)"
   ]
  },
  {
   "cell_type": "code",
   "execution_count": null,
   "metadata": {},
   "outputs": [],
   "source": []
  }
 ],
 "metadata": {
  "kernelspec": {
   "display_name": "Python 3",
   "language": "python",
   "name": "python3"
  },
  "language_info": {
   "codemirror_mode": {
    "name": "ipython",
    "version": 3
   },
   "file_extension": ".py",
   "mimetype": "text/x-python",
   "name": "python",
   "nbconvert_exporter": "python",
   "pygments_lexer": "ipython3",
   "version": "3.7.3"
  }
 },
 "nbformat": 4,
 "nbformat_minor": 2
}
