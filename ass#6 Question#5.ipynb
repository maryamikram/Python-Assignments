{
 "cells": [
  {
   "cell_type": "code",
   "execution_count": 15,
   "metadata": {},
   "outputs": [
    {
     "name": "stdout",
     "output_type": "stream",
     "text": [
      "Cultus VLX\n",
      "2007 \n",
      "\n",
      "\n",
      "Model:  Mira\n",
      "Color:  White\n",
      "Year:  2012\n",
      "Fuel:  Petrol\n",
      "Making:  Daihatsu\n",
      "\n",
      "\n",
      "\n",
      "Model:  Minica\n",
      "Color:  White\n",
      "Year:  2013\n",
      "Fuel:  Petrol\n",
      "Making:  Mitsubishi\n"
     ]
    }
   ],
   "source": [
    "class Car():\n",
    "    def __init__(self, model, year, color, making, fuel):\n",
    "        self.model = model\n",
    "        self.year = year\n",
    "        self.color = color\n",
    "        self.making = making\n",
    "        self.fuel = fuel\n",
    "        \n",
    "car1 = Car('Cultus VXR', '2015', 'Silver', 'Suzuki', 'Petrol')\n",
    "car2 = Car('Mira', '2012', 'White', 'Daihatsu', 'Petrol')\n",
    "car3 = Car('Minica', '2013', 'White', 'Mitsubishi', 'Petrol')\n",
    "car4 = Car('Cultus VLX', '2007', 'Blue', 'Suzuki', 'CNG')\n",
    "car5 = Car('Cuore', '2005', 'Black', 'Daihatsu', 'CNG')\n",
    "def info(c):\n",
    "    print(c.model)\n",
    "    print(c.year,'\\n\\n')\n",
    "info(car4)\n",
    "def A(a):\n",
    "    print(\"Model: \",a.model)\n",
    "    print(\"Color: \",a.color)\n",
    "    print(\"Year: \",a.year)\n",
    "    print(\"Fuel: \",a.fuel)\n",
    "    print(\"Making: \",a.making)\n",
    "    print(\"\\n\\n\")\n",
    "A(car2)\n",
    "def car_info(info):\n",
    "    print(\"Model: \",info.model)\n",
    "    print(\"Color: \",info.color)\n",
    "    print(\"Year: \",info.year)\n",
    "    print(\"Fuel: \",info.fuel)\n",
    "    print(\"Making: \",info.making)\n",
    "car_info(car3)"
   ]
  },
  {
   "cell_type": "code",
   "execution_count": 14,
   "metadata": {},
   "outputs": [
    {
     "name": "stdout",
     "output_type": "stream",
     "text": [
      "Cultus VLX\n",
      "2007 \n",
      "\n",
      "\n",
      "Model:  Mira\n",
      "Color:  White\n",
      "Year:  2012\n",
      "Fuel:  Petrol\n",
      "Making:  Daihatsu\n",
      "\n",
      "\n",
      "\n",
      "Model:  Minica\n",
      "Color:  White\n",
      "Year:  2013\n",
      "Fuel:  Petrol\n",
      "Making:  Mitsubishi\n"
     ]
    }
   ],
   "source": []
  },
  {
   "cell_type": "code",
   "execution_count": null,
   "metadata": {},
   "outputs": [],
   "source": []
  }
 ],
 "metadata": {
  "kernelspec": {
   "display_name": "Python 3",
   "language": "python",
   "name": "python3"
  },
  "language_info": {
   "codemirror_mode": {
    "name": "ipython",
    "version": 3
   },
   "file_extension": ".py",
   "mimetype": "text/x-python",
   "name": "python",
   "nbconvert_exporter": "python",
   "pygments_lexer": "ipython3",
   "version": "3.7.3"
  }
 },
 "nbformat": 4,
 "nbformat_minor": 2
}
