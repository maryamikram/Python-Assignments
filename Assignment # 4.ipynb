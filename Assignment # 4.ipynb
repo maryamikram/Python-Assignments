{
 "cells": [
  {
   "cell_type": "code",
   "execution_count": 1,
   "metadata": {},
   "outputs": [
    {
     "name": "stdout",
     "output_type": "stream",
     "text": [
      "{'First_name': 'Maryam', 'last_name': 'Ikram', 'age': '20', 'city': 'karachi'}\n"
     ]
    }
   ],
   "source": [
    "student1 = {\"First_name\": \"Maryam\", \n",
    "           \"last_name\": \"Ikram\",\n",
    "           \"age\": \"20\",\n",
    "           \"city\":\"karachi\"}\n",
    "\n",
    "print(student1)"
   ]
  },
  {
   "cell_type": "code",
   "execution_count": 2,
   "metadata": {},
   "outputs": [
    {
     "name": "stdout",
     "output_type": "stream",
     "text": [
      "{'First_name': 'Maryam', 'last_name': 'Ikram', 'age': '20', 'city': 'karachi', 'qualification': 'high academic level'}\n"
     ]
    }
   ],
   "source": [
    "student1 = {\"First_name\": \"Maryam\", \n",
    "           \"last_name\": \"Ikram\",\n",
    "           \"age\": \"20\",\n",
    "           \"city\":\"karachi\"}\n",
    "student1[\"qualification\"] = \"high academic level\"\n",
    "print(student1)"
   ]
  },
  {
   "cell_type": "code",
   "execution_count": 3,
   "metadata": {},
   "outputs": [
    {
     "name": "stdout",
     "output_type": "stream",
     "text": [
      "{'First_name': 'Maryam', 'last_name': 'Ikram', 'age': '20', 'city': 'karachi'}\n"
     ]
    }
   ],
   "source": [
    "del student1[\"qualification\"]\n",
    "print(student1)"
   ]
  },
  {
   "cell_type": "code",
   "execution_count": 3,
   "metadata": {},
   "outputs": [
    {
     "name": "stdout",
     "output_type": "stream",
     "text": [
      "\n",
      "Karachi \n",
      "  Information: \n",
      " country = Pakistan \n",
      " Population = 14.91 million \n",
      " Facts = Karachi Is Vital To Pakistan'S Economy\n",
      "\n",
      "Lahore \n",
      "  Information: \n",
      " country = Pakistan \n",
      " Population = 11.13 million \n",
      " Facts = It Is The Second Largest And Most Populous City In Pakistan, After Karachi\n",
      "\n",
      "Islamabad \n",
      "  Information: \n",
      " country = Pakistan \n",
      " Population = 1.015 million \n",
      " Facts = Capital Of Pakistan\n"
     ]
    }
   ],
   "source": [
    "cities = {\n",
    "    \"karachi\": {\n",
    "        \"country\": \"Pakistan\",\n",
    "        \"population\": \"14.91 million\",\n",
    "        \"fact\" : \"Karachi is vital to Pakistan's economy\"\n",
    "        },\n",
    "   \"Lahore\" : {\n",
    "        \"country\": \"Pakistan\",\n",
    "        \"population\": \"11.13 million\",\n",
    "        \"fact\" : \"It is the second largest and most populous city in Pakistan, after Karachi\"\n",
    "        },\n",
    "    \"Islamabad\": {\n",
    "        \"country\": \"Pakistan\",\n",
    "        \"population\": \"1.015 million\",\n",
    "        \"fact\" : \"Capital of Pakistan\"\n",
    "        }\n",
    "    }\n",
    "\n",
    "for city, city_info in cities.items():\n",
    "    country = city_info['country'].title()\n",
    "    population = city_info['population']\n",
    "    facts = city_info['fact'].title()\n",
    "    print(\"\\n\" + city.title() ,\"\\n \" , \"Information:\", \"\\n\" ,\"country =\", country,\"\\n\", \"Population =\", str(population), \"\\n\", \"Facts =\" ,facts  )\n",
    "    "
   ]
  },
  {
   "cell_type": "code",
   "execution_count": 5,
   "metadata": {},
   "outputs": [
    {
     "name": "stdout",
     "output_type": "stream",
     "text": [
      "Enter your age for ticket's cost: 10\n",
      "  Your ticket is $10.\n",
      "\n",
      "Enter 'quit' when you are finished otherwise Enter age again! 22\n",
      "  Your ticket is $15.\n",
      "\n",
      "Enter 'quit' when you are finished otherwise Enter age again! 3\n",
      "  Your ticket is $10.\n",
      "\n",
      "Enter 'quit' when you are finished otherwise Enter age again! 2\n",
      "  You get in free!\n",
      "\n",
      "Enter 'quit' when you are finished otherwise Enter age again! quit\n"
     ]
    }
   ],
   "source": [
    "prompt  = \"Enter your age for ticket's cost: \" \n",
    "\n",
    "while True:\n",
    "    age = input(prompt)\n",
    "    prompt = \"\\nEnter 'quit' when you are finished otherwise Enter age again! \"\n",
    "    if age == 'quit':\n",
    "        break\n",
    "    age = int(age)\n",
    "\n",
    "    if age < 3:\n",
    "        print(\"  You get in free!\")\n",
    "        \n",
    "    elif age < 13:\n",
    "        print(\"  Your ticket is $10.\")\n",
    "        \n",
    "    else:\n",
    "        print(\"  Your ticket is $15.\")"
   ]
  },
  {
   "cell_type": "code",
   "execution_count": 6,
   "metadata": {},
   "outputs": [
    {
     "name": "stdout",
     "output_type": "stream",
     "text": [
      "one of my fav book is  Alice in wonderland\n"
     ]
    }
   ],
   "source": [
    "def fav_book(title):\n",
    "    print(\"one of my fav book is \", title)\n",
    "fav_book('Alice in wonderland')"
   ]
  },
  {
   "cell_type": "code",
   "execution_count": 7,
   "metadata": {},
   "outputs": [
    {
     "name": "stdout",
     "output_type": "stream",
     "text": [
      "Enter the number to guess: 6\n",
      "The number is higher than your guess\n",
      "Enter the number to guess: 10\n",
      "The number is lower than your guess\n",
      "Enter the number to guess: 7\n",
      "The number is higher than your guess\n"
     ]
    }
   ],
   "source": [
    "from random import randrange\n",
    "randNum= randrange(1,20)\n",
    "\n",
    "\n",
    "for a in range(3):\n",
    "    num = int(input(\"Enter the number to guess: \"))\n",
    "    if num == randNum:\n",
    "        print(\"Brilliant! You guess the correct number.\")\n",
    "        break\n",
    "    else:\n",
    "        if num > randNum:\n",
    "            print(\"The number is lower than your guess\")\n",
    "        else:\n",
    "            print(\"The number is higher than your guess\")"
   ]
  },
  {
   "cell_type": "code",
   "execution_count": null,
   "metadata": {},
   "outputs": [],
   "source": []
  }
 ],
 "metadata": {
  "kernelspec": {
   "display_name": "Python 3",
   "language": "python",
   "name": "python3"
  },
  "language_info": {
   "codemirror_mode": {
    "name": "ipython",
    "version": 3
   },
   "file_extension": ".py",
   "mimetype": "text/x-python",
   "name": "python",
   "nbconvert_exporter": "python",
   "pygments_lexer": "ipython3",
   "version": "3.7.3"
  }
 },
 "nbformat": 4,
 "nbformat_minor": 2
}
