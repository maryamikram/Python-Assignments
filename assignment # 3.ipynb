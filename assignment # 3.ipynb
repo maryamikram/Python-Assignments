{
 "cells": [
  {
   "cell_type": "code",
   "execution_count": 1,
   "metadata": {},
   "outputs": [
    {
     "name": "stdout",
     "output_type": "stream",
     "text": [
      "Enter First Value: 2\n",
      "Enter Second Value: 2\n",
      "Enter Operator: **\n",
      "Answer =  4\n"
     ]
    }
   ],
   "source": [
    "val1 = int(input('Enter First Value: '))\n",
    "val2 = int(input('Enter Second Value: '))\n",
    "operator = input('Enter Operator: ')\n",
    "if operator == '+':\n",
    "  val = val1 + val2\n",
    "  print('Answer = '  , val)\n",
    "\n",
    "elif operator == '-':\n",
    "  val = val1 - val2\n",
    "  print('Answer = '  , val)\n",
    "elif operator == '*':\n",
    "  val = val1 * val2\n",
    "  print('Answer = ' , val)\n",
    "elif operator == '/':\n",
    "  val = val1 / val2\n",
    "  print('Answer = ' , val)\n",
    "elif operator == '**':\n",
    "    val = val1 ** val2\n",
    "    print (\"Answer = \", val)\n",
    "    \n",
    "else:\n",
    "  print('Enter correct operator')"
   ]
  },
  {
   "cell_type": "code",
   "execution_count": 2,
   "metadata": {},
   "outputs": [
    {
     "name": "stdout",
     "output_type": "stream",
     "text": [
      "This is the numeric value:  4\n"
     ]
    }
   ],
   "source": [
    "A = ['A' , 'E', 'maryam', 4 , 'b']\n",
    "for i in A: \n",
    "    if type(i) == int: \n",
    "        print (\"This is the numeric value: \" , i) \n",
    "        break\n",
    "else:\n",
    "    print ( \"there is no numeric value\")"
   ]
  },
  {
   "cell_type": "code",
   "execution_count": 3,
   "metadata": {},
   "outputs": [
    {
     "name": "stdout",
     "output_type": "stream",
     "text": [
      "{1: 'Customer number'}\n"
     ]
    }
   ],
   "source": [
    "customer = {}\n",
    "customer[1] = \"Customer number\"\n",
    "print (customer)"
   ]
  },
  {
   "cell_type": "code",
   "execution_count": 4,
   "metadata": {},
   "outputs": [
    {
     "name": "stdout",
     "output_type": "stream",
     "text": [
      "Sum of all numeric values is:  14\n"
     ]
    }
   ],
   "source": [
    "numeric_item = { '1': 5, '2': 5, '3': 4}\n",
    "Sum = sum(numeric_item.values())\n",
    "print(\"Sum of all numeric values is: \" ,Sum)"
   ]
  },
  {
   "cell_type": "code",
   "execution_count": 1,
   "metadata": {},
   "outputs": [
    {
     "name": "stdout",
     "output_type": "stream",
     "text": [
      "[1, 2, 3, 5]\n"
     ]
    }
   ],
   "source": [
    "List = [1,2,3,3,4,5,1,5,6,7,2]\n",
    " \n",
    "\n",
    "new_list = sorted(set(List))\n",
    "dup_list =[]\n",
    "for i in range(len(new_list)):\n",
    "        if (List.count(new_list[i]) > 1 ):\n",
    "            dup_list.append(new_list[i])\n",
    "        \n",
    "print(dup_list) "
   ]
  },
  {
   "cell_type": "code",
   "execution_count": 6,
   "metadata": {},
   "outputs": [
    {
     "name": "stdout",
     "output_type": "stream",
     "text": [
      "3\n",
      "Already exists\n"
     ]
    }
   ],
   "source": [
    "A = { 1: \"Finland\",\n",
    "            2: \"Norway\",\n",
    "            3: \"mrym\"}\n",
    "\n",
    "given_key = int(input())\n",
    "\n",
    "for key in A.keys():\n",
    "    if key == given_key:\n",
    "        print(\"Already exists\")\n",
    "        break\n",
    "else:\n",
    "    print(\"the given key is not in dictionary\")"
   ]
  },
  {
   "cell_type": "code",
   "execution_count": null,
   "metadata": {},
   "outputs": [],
   "source": []
  }
 ],
 "metadata": {
  "kernelspec": {
   "display_name": "Python 3",
   "language": "python",
   "name": "python3"
  },
  "language_info": {
   "codemirror_mode": {
    "name": "ipython",
    "version": 3
   },
   "file_extension": ".py",
   "mimetype": "text/x-python",
   "name": "python",
   "nbconvert_exporter": "python",
   "pygments_lexer": "ipython3",
   "version": "3.7.3"
  }
 },
 "nbformat": 4,
 "nbformat_minor": 2
}
