{
 "cells": [
  {
   "cell_type": "code",
   "execution_count": 1,
   "metadata": {},
   "outputs": [
    {
     "name": "stdout",
     "output_type": "stream",
     "text": [
      "Enter the number to find the factorial : 3\n",
      "Factorial = 6\n"
     ]
    }
   ],
   "source": [
    "def factorial(n):\n",
    "    if n == 0:\n",
    "        return 1\n",
    "    else:\n",
    "        return n * factorial(n-1)\n",
    "n=int(input(\"Enter the number to find the factorial : \"))\n",
    "print(\"Factorial =\",factorial(n))"
   ]
  },
  {
   "cell_type": "code",
   "execution_count": 2,
   "metadata": {},
   "outputs": [
    {
     "name": "stdout",
     "output_type": "stream",
     "text": [
      "Enter The String: Maryam Ikram\n",
      "Number of UpperCase Letters :  2\n",
      "Number of LowerCase Letters :  9\n"
     ]
    }
   ],
   "source": [
    "def string(s):\n",
    "    d={\"UPPER_CASE\":0, \"LOWER_CASE\":0}\n",
    "    for alpha in s:\n",
    "        if alpha.isupper():\n",
    "            d[\"UPPER_CASE\"]+=1\n",
    "        elif alpha.islower():\n",
    "            d[\"LOWER_CASE\"]+=1\n",
    "    print (\"Number of UpperCase Letters : \", d[\"UPPER_CASE\"])\n",
    "    print (\"Number of LowerCase Letters : \", d[\"LOWER_CASE\"])\n",
    "s = input(\"Enter The String: \")\n",
    "string(s)"
   ]
  },
  {
   "cell_type": "code",
   "execution_count": 3,
   "metadata": {},
   "outputs": [
    {
     "name": "stdout",
     "output_type": "stream",
     "text": [
      "Even numbers in the list:  [2, 4, 12, 6, 78, 44, 56]\n"
     ]
    }
   ],
   "source": [
    "def even_num(lst): \n",
    "#using list comprehension \n",
    " even_no = [num for num in lst if num % 2 == 0] \n",
    "  \n",
    " print(\"Even numbers in the list: \", even_no)\n",
    "\n",
    "list1 = [2,4,12,3,5,6,78,44,56,23] \n",
    "even_num(list1)"
   ]
  },
  {
   "cell_type": "code",
   "execution_count": 4,
   "metadata": {},
   "outputs": [
    {
     "name": "stdout",
     "output_type": "stream",
     "text": [
      "Enter a string:madam\n",
      "Given string is a palindrome\n"
     ]
    }
   ],
   "source": [
    "def palindrome(s):\n",
    "    \n",
    "    if(s==s[::-1]):\n",
    "        print(\"Given string is a palindrome\")\n",
    "    else:\n",
    "        print(\"Given string is not a palindrome\")\n",
    "s=input(\"Enter a string:\")\n",
    "palindrome(s)"
   ]
  },
  {
   "cell_type": "code",
   "execution_count": 7,
   "metadata": {},
   "outputs": [
    {
     "name": "stdout",
     "output_type": "stream",
     "text": [
      "^^^^^^^^^^^^^\n",
      "SHOPPING LIST\n",
      "^^^^^^^^^^^^^\n",
      "item1: Milk\n",
      "item2: Rice\n",
      "item3: Spices\n",
      "item4: Sugar\n"
     ]
    }
   ],
   "source": [
    "def shop(**items):\n",
    "    print(\"^^^^^^^^^^^^^\\nSHOPPING LIST\\n^^^^^^^^^^^^^\")\n",
    "    for key,value in items.items():\n",
    "       print(key + \": \" +value)\n",
    "shop(item1=\"Milk\", item2=\"Rice\",item3=\"Spices\", item4=\"Sugar\")"
   ]
  },
  {
   "cell_type": "code",
   "execution_count": null,
   "metadata": {},
   "outputs": [],
   "source": []
  }
 ],
 "metadata": {
  "kernelspec": {
   "display_name": "Python 3",
   "language": "python",
   "name": "python3"
  },
  "language_info": {
   "codemirror_mode": {
    "name": "ipython",
    "version": 3
   },
   "file_extension": ".py",
   "mimetype": "text/x-python",
   "name": "python",
   "nbconvert_exporter": "python",
   "pygments_lexer": "ipython3",
   "version": "3.7.3"
  }
 },
 "nbformat": 4,
 "nbformat_minor": 2
}
